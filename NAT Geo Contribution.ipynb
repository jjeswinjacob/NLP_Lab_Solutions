{
  "nbformat": 4,
  "nbformat_minor": 0,
  "metadata": {
    "colab": {
      "name": "NAT Geo Contribution",
      "provenance": [],
      "authorship_tag": "ABX9TyN110MQGjI6W6S9eBEuBelH",
      "include_colab_link": true
    },
    "kernelspec": {
      "name": "python3",
      "display_name": "Python 3"
    }
  },
  "cells": [
    {
      "cell_type": "markdown",
      "metadata": {
        "id": "view-in-github",
        "colab_type": "text"
      },
      "source": [
        "<a href=\"https://colab.research.google.com/github/jjeswinjacob/NLP_Lab_Solutions/blob/master/NAT%20Geo%20Contribution.ipynb\" target=\"_parent\"><img src=\"https://colab.research.google.com/assets/colab-badge.svg\" alt=\"Open In Colab\"/></a>"
      ]
    },
    {
      "cell_type": "code",
      "metadata": {
        "id": "j6RqhmyF3RoN"
      },
      "source": [
        "# Nat Geo Contribution"
      ],
      "execution_count": null,
      "outputs": []
    },
    {
      "cell_type": "code",
      "metadata": {
        "id": "PRZxtlxA3cAt"
      },
      "source": [
        "# Stemming\n",
        "import nltk\n",
        "from nltk.stem import LancasterStemmer\n",
        "stemmerLan = LancasterStemmer()\n",
        "gen_docs = [[stemmerLan.stem(w.lower()) for w in word_tokenize(t)] \n",
        "            for t in file_docs]"
      ],
      "execution_count": null,
      "outputs": []
    },
    {
      "cell_type": "code",
      "metadata": {
        "id": "v3klTjtA3hQa"
      },
      "source": [
        "# Finding Average Similarity\n",
        "import numpy as np\n",
        "\n",
        "avg_sims = []\n",
        "for line in file2_docs:\n",
        "        query_doc = [w.lower() for w in word_tokenize(line)]\n",
        "        query_doc_bow = dictionary.doc2bow(query_doc)\n",
        "        query_doc_tf_idf = tf_idf[query_doc_bow]\n",
        "        sum_of_sims =(np.sum(sims[query_doc_tf_idf], dtype=np.float32))\n",
        "        avg = sum_of_sims / len(file_docs)\n",
        "        avg_sims.append(avg)  \n",
        "\n",
        "total_avg = np.sum(avg_sims, dtype=np.float)/ len(avg_sims)\n",
        "percentage_of_similarity = round(float(total_avg) * 100)\n",
        "print(f'Average similarity rounded percentage: {percentage_of_similarity}')"
      ],
      "execution_count": null,
      "outputs": []
    }
  ]
}