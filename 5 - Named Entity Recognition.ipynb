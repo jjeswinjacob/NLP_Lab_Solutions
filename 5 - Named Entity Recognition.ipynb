{
  "nbformat": 4,
  "nbformat_minor": 0,
  "metadata": {
    "colab": {
      "name": "5 - Named Entity Recognition.ipynb",
      "provenance": [],
      "collapsed_sections": [],
      "authorship_tag": "ABX9TyNN6w9tXWyH/eNv7/cU4JgV",
      "include_colab_link": true
    },
    "kernelspec": {
      "name": "python3",
      "display_name": "Python 3"
    }
  },
  "cells": [
    {
      "cell_type": "markdown",
      "metadata": {
        "id": "view-in-github",
        "colab_type": "text"
      },
      "source": [
        "<a href=\"https://colab.research.google.com/github/jjeswinjacob/NLP_Lab_Solutions/blob/master/5%20-%20Named%20Entity%20Recognition.ipynb\" target=\"_parent\"><img src=\"https://colab.research.google.com/assets/colab-badge.svg\" alt=\"Open In Colab\"/></a>"
      ]
    },
    {
      "cell_type": "code",
      "metadata": {
        "id": "IpEm7zjfdlAk"
      },
      "source": [
        "import spacy\n",
        "m = spacy.load('en_core_web_sm')"
      ],
      "execution_count": 58,
      "outputs": []
    },
    {
      "cell_type": "code",
      "metadata": {
        "id": "2PrNcpH0dzx9"
      },
      "source": [
        "example1 = \"Vikings transports us to the brutal and mysterious world of Ragnar Lothbrok, a Viking warrior and farmer who yearns to explore - and raid - the distant shores across the ocean.\""
      ],
      "execution_count": null,
      "outputs": []
    },
    {
      "cell_type": "code",
      "metadata": {
        "id": "qr8OcycxhZKo"
      },
      "source": [
        "doc = m(example1)"
      ],
      "execution_count": null,
      "outputs": []
    },
    {
      "cell_type": "code",
      "metadata": {
        "id": "C3DVk1ushepp",
        "outputId": "a9fe297d-f6d7-487d-88d5-ad62dc87825d",
        "colab": {
          "base_uri": "https://localhost:8080/",
          "height": 52
        }
      },
      "source": [
        "for ent in doc.ents:\n",
        "  print(ent.text, ent.label_)"
      ],
      "execution_count": null,
      "outputs": [
        {
          "output_type": "stream",
          "text": [
            "Ragnar Lothbrok ORG\n",
            "Viking PERSON\n"
          ],
          "name": "stdout"
        }
      ]
    },
    {
      "cell_type": "code",
      "metadata": {
        "id": "LBXE5n5Ahl8W"
      },
      "source": [
        "example2 = \"Peter Franzén is one of Finland's most accomplished actors who has enjoyed a successful career both nationally and internationally. To Franzén's credits include for example the spy thriller The Gunman opposite Sean Penn and Javier Bardem, the controversial film, Heart of a Lion, Open Up To Me which was nominated for a Nordic Council Film prize\""
      ],
      "execution_count": null,
      "outputs": []
    },
    {
      "cell_type": "code",
      "metadata": {
        "id": "i-Liqa-Uh5UI",
        "outputId": "3c5a2393-67e8-46fa-d734-3cb9fe7fb75d",
        "colab": {
          "base_uri": "https://localhost:8080/",
          "height": 156
        }
      },
      "source": [
        "doc = m(example2)\n",
        "for ent in doc.ents:\n",
        "  print(ent.text, ent.label_)"
      ],
      "execution_count": null,
      "outputs": [
        {
          "output_type": "stream",
          "text": [
            "Peter Franzén PERSON\n",
            "one CARDINAL\n",
            "Finland GPE\n",
            "Franzén GPE\n",
            "Gunman ORG\n",
            "Sean Penn PERSON\n",
            "Javier Bardem PERSON\n",
            "Nordic Council Film ORG\n"
          ],
          "name": "stdout"
        }
      ]
    },
    {
      "cell_type": "code",
      "metadata": {
        "id": "ZTipVptFh_5t",
        "outputId": "cd6cc8d5-5175-4757-c019-0ea918e4b7dc",
        "colab": {
          "base_uri": "https://localhost:8080/",
          "height": 104
        }
      },
      "source": [
        "example3 = \"Net income was $9.4 million compared to the prior year of $2.7 million.\" + \"Revenue exceeded twelve billion dollars, with a loss of $1b.\"\n",
        "doc = m(example3)\n",
        "for ent in doc.ents:\n",
        "  print(ent.text, ent.label_)"
      ],
      "execution_count": null,
      "outputs": [
        {
          "output_type": "stream",
          "text": [
            "$9.4 million MONEY\n",
            "the prior year DATE\n",
            "$2.7 million MONEY\n",
            "twelve billion dollars MONEY\n",
            "1b MONEY\n"
          ],
          "name": "stdout"
        }
      ]
    },
    {
      "cell_type": "code",
      "metadata": {
        "id": "s3whtDwtlCVU",
        "outputId": "c2c8636e-9dbb-4b77-d0bf-df9de53295bb",
        "colab": {
          "base_uri": "https://localhost:8080/",
          "height": 35
        }
      },
      "source": [
        "# Work of Art\n",
        "example4 = \"The Harry Potter Series is the best. I was glued the whole day to the books.\"\n",
        "doc = m(example4)\n",
        "for ent in doc.ents:\n",
        "  print(ent.text, ent.label_)"
      ],
      "execution_count": null,
      "outputs": [
        {
          "output_type": "stream",
          "text": [
            "The Harry Potter Series WORK_OF_ART\n"
          ],
          "name": "stdout"
        }
      ]
    },
    {
      "cell_type": "code",
      "metadata": {
        "id": "kfnP2FTwlVYT",
        "outputId": "20433500-5841-4406-a057-d5734623ab58",
        "colab": {
          "base_uri": "https://localhost:8080/",
          "height": 52
        }
      },
      "source": [
        "# FAC\n",
        "example5 = \"The White House and buckingham palace are the abode of royals.\"\n",
        "doc = m(example5)\n",
        "for ent in doc.ents:\n",
        "  print(ent.text, ent.label_)"
      ],
      "execution_count": null,
      "outputs": [
        {
          "output_type": "stream",
          "text": [
            "The White House ORG\n",
            "buckingham palace FAC\n"
          ],
          "name": "stdout"
        }
      ]
    },
    {
      "cell_type": "code",
      "metadata": {
        "id": "dtNUYTqZllzY",
        "outputId": "c054a37b-e8f0-4d65-9a96-b148dff0f420",
        "colab": {
          "base_uri": "https://localhost:8080/",
          "height": 312
        }
      },
      "source": [
        "example6 = \"Hassium is a highly radioactive chemical element with symbol Hs and atomic number 108. The most stable known isotopes have half-lives of around 10 seconds. Natural occurrences of this superheavy element have been hypothesised, but none has ever been found. The first attempts to artificially prepare element 108 by nuclear fusion began in 1978 at the Joint Institute for Nuclear Research in the Soviet Union; though likely successful by 1984, these experiments did not prove conclusively that the element had been synthesised. For this reason, the discovery is principally credited to a team led by Peter Armbruster and Gottfried Münzenberg at the Gesellschaft für Schwerionenforschung who bombarded lead-208 with iron-58 and produced hassium-265. The name hassium was selected as a reference to the German state of Hesse, where the research was conducted. The observed chemical properties of hassium are consistent with its expected placement as the group 8 element in period 7 of the periodic table. \"\n",
        "doc = m(example6)\n",
        "for ent in doc.ents:\n",
        "  print(ent.text, ent.label_)"
      ],
      "execution_count": null,
      "outputs": [
        {
          "output_type": "stream",
          "text": [
            "Hs PERSON\n",
            "108 CARDINAL\n",
            "half CARDINAL\n",
            "around 10 seconds TIME\n",
            "first ORDINAL\n",
            "108 CARDINAL\n",
            "1978 DATE\n",
            "the Joint Institute for Nuclear Research ORG\n",
            "the Soviet Union GPE\n",
            "1984 DATE\n",
            "Peter Armbruster PERSON\n",
            "Gottfried Münzenberg PERSON\n",
            "the Gesellschaft für Schwerionenforschung FAC\n",
            "German NORP\n",
            "Hesse GPE\n",
            "8 CARDINAL\n",
            "7 CARDINAL\n"
          ],
          "name": "stdout"
        }
      ]
    },
    {
      "cell_type": "code",
      "metadata": {
        "id": "gfl2Zfa2md_E",
        "outputId": "7a8003b8-f87b-4b59-9f56-8a2551063849",
        "colab": {
          "base_uri": "https://localhost:8080/",
          "height": 676
        }
      },
      "source": [
        "example7 = \"The U.S. state of Washington has thirty-nine counties. The Provisional Government of Oregon established Vancouver and Lewis Counties in 1845 in unorganized Oregon Country, extending from the Columbia River north to 54°40′ north latitude. After the region was organized within the Oregon Territory with the current northern border of 49° north, Vancouver County was renamed Clarke, and six more counties were created out of Lewis County before the organization of Washington Territory in 1853; twenty-eight were formed during Washington's territorial period, two of which only existed briefly. The final five were established in the 22 years after Washington was admitted to the Union as the 42nd state in 1889. King County, home to the state's largest city, Seattle, holds 30 percent of Washington's population (2,252,782 residents of 7,614,893 in 2019), and has the highest population density, with more than 1,000 people per square mile (400/km2). Garfield County is both the least populated (2,225) and least densely populated (3.1/sq mi [1.2/km2]). \"\n",
        "doc = m(example7)\n",
        "for ent in doc.ents:\n",
        "  print(ent.text, ent.label_)"
      ],
      "execution_count": 29,
      "outputs": [
        {
          "output_type": "stream",
          "text": [
            "U.S. GPE\n",
            "Washington GPE\n",
            "thirty-nine CARDINAL\n",
            "The Provisional Government of ORG\n",
            "Oregon GPE\n",
            "Vancouver GPE\n",
            "Lewis Counties GPE\n",
            "1845 DATE\n",
            "Oregon GPE\n",
            "Columbia River LOC\n",
            "54 CARDINAL\n",
            "Oregon GPE\n",
            "49 CARDINAL\n",
            "Vancouver County GPE\n",
            "Clarke NORP\n",
            "six CARDINAL\n",
            "Lewis County GPE\n",
            "Washington Territory ORG\n",
            "1853 DATE\n",
            "twenty-eight CARDINAL\n",
            "Washington GPE\n",
            "two CARDINAL\n",
            "five CARDINAL\n",
            "the 22 years DATE\n",
            "Washington GPE\n",
            "Union ORG\n",
            "1889 DATE\n",
            "King County GPE\n",
            "Seattle GPE\n",
            "30 percent PERCENT\n",
            "Washington GPE\n",
            "2,252,782 CARDINAL\n",
            "7,614,893 CARDINAL\n",
            "2019 DATE\n",
            "more than 1,000 CARDINAL\n",
            "Garfield County GPE\n",
            "2,225 CARDINAL\n",
            "3.1/sq mi [ MONEY\n"
          ],
          "name": "stdout"
        }
      ]
    },
    {
      "cell_type": "code",
      "metadata": {
        "id": "utPRncDjmwh1",
        "outputId": "a4e8f4aa-228b-49cb-8b46-4284dc92d41d",
        "colab": {
          "base_uri": "https://localhost:8080/",
          "height": 87
        }
      },
      "source": [
        "# Technical Jargon\n",
        "example8 = \"The Monte Carlo Simulation, Galois Fields, and Markov chains look complicated but not so complicated.\"\n",
        "doc = m(example8)\n",
        "for ent in doc.ents:\n",
        "  print(ent.text, ent.label_)\n",
        "print(\"When we use technical jargon!\")"
      ],
      "execution_count": 39,
      "outputs": [
        {
          "output_type": "stream",
          "text": [
            "The Monte Carlo Simulation ORG\n",
            "Galois Fields PERSON\n",
            "Markov PERSON\n",
            "When we use technical jargon!\n"
          ],
          "name": "stdout"
        }
      ]
    },
    {
      "cell_type": "code",
      "metadata": {
        "id": "cDrqCZxvot8U",
        "outputId": "bc876c55-e4e9-461e-f2fb-b154b397b6a6",
        "colab": {
          "base_uri": "https://localhost:8080/",
          "height": 69
        }
      },
      "source": [
        "example9 = \"Some sexy degress include Phd, MD, and M.S.\"\n",
        "doc = m(example9)\n",
        "for ent in doc.ents:\n",
        "  print(ent.text, ent.label_)"
      ],
      "execution_count": 43,
      "outputs": [
        {
          "output_type": "stream",
          "text": [
            "Phd GPE\n",
            "MD ORG\n",
            "M.S. GPE\n"
          ],
          "name": "stdout"
        }
      ]
    },
    {
      "cell_type": "code",
      "metadata": {
        "id": "eb7juBzfpVJW",
        "outputId": "d6f27147-6bac-46df-8248-035ec375b556",
        "colab": {
          "base_uri": "https://localhost:8080/",
          "height": 52
        }
      },
      "source": [
        "example10 = \"Ganga and Yamuna are rivers in India.\"\n",
        "doc = m(example10)\n",
        "for ent in doc.ents:\n",
        "  print(ent.text, ent.label_)"
      ],
      "execution_count": 44,
      "outputs": [
        {
          "output_type": "stream",
          "text": [
            "Yamuna PERSON\n",
            "India GPE\n"
          ],
          "name": "stdout"
        }
      ]
    },
    {
      "cell_type": "code",
      "metadata": {
        "id": "qHa192dzptyM",
        "outputId": "a915a035-eae9-445f-8c03-4dac38061f4d",
        "colab": {
          "base_uri": "https://localhost:8080/",
          "height": 52
        }
      },
      "source": [
        "example11 = \"Himalayas and is the mount ranges in India.\"\n",
        "doc = m(example11)\n",
        "for ent in doc.ents:\n",
        "  print(ent.text, ent.label_)"
      ],
      "execution_count": 47,
      "outputs": [
        {
          "output_type": "stream",
          "text": [
            "Himalayas ORG\n",
            "India GPE\n"
          ],
          "name": "stdout"
        }
      ]
    },
    {
      "cell_type": "code",
      "metadata": {
        "id": "RB0L14b5qg5f",
        "outputId": "13201061-e322-4572-e7d8-ce83b3b6b224",
        "colab": {
          "base_uri": "https://localhost:8080/",
          "height": 35
        }
      },
      "source": [
        "#Querying\n",
        "locs = [('Omnicom', 'IN', 'New York'),('DDB Needham', 'IN', 'New York'),('Kaplan Thaler Group', 'IN', 'New York'),('BBDO South', 'IN', 'Atlanta'), ('Georgia-Pacific', 'IN', 'Atlanta')]\n",
        "query = [e1 for (e1, rel, e2) in locs if e2=='Atlanta']\n",
        "query"
      ],
      "execution_count": 52,
      "outputs": [
        {
          "output_type": "execute_result",
          "data": {
            "text/plain": [
              "['BBDO South', 'Georgia-Pacific']"
            ]
          },
          "metadata": {
            "tags": []
          },
          "execution_count": 52
        }
      ]
    },
    {
      "cell_type": "code",
      "metadata": {
        "id": "GdBIfPOSrDMe",
        "outputId": "8291b99c-9192-4109-b7b2-c7312424a99a",
        "colab": {
          "base_uri": "https://localhost:8080/",
          "height": 52
        }
      },
      "source": [
        "example12 = \"Hybrid assembly of multi-drug resistant, highly virulent methicillin resistant Staphylococcus aureus ST772-SCCmec V lineage: Maximising its potential for dissemination similar to USA300 clone\"\n",
        "doc = m(example12)\n",
        "for ent in doc.ents:\n",
        "  print(ent.text, ent.label_)\n",
        "print(\"Unfortunately spacy NER is not able to identify any of the medical jargon. It incorrectly classifies one as a geopolitical entity.\")"
      ],
      "execution_count": 57,
      "outputs": [
        {
          "output_type": "stream",
          "text": [
            "USA300 GPE\n",
            "Unfortunately spacy NER is not able to identify any of the medical jargon. It incorrectly classifies one as a geopolitical entity.\n"
          ],
          "name": "stdout"
        }
      ]
    },
    {
      "cell_type": "code",
      "metadata": {
        "id": "I-ZYbB9W0Rnz"
      },
      "source": [
        "# Analysis: Spacy is quite useful for the vast majority Entity Recognition. But, we see that unless the model is trained on different genres of dataset\n",
        "# we're unable to correctly predict the entity category in some cases and incorrectly classify in other cases. "
      ],
      "execution_count": null,
      "outputs": []
    }
  ]
}